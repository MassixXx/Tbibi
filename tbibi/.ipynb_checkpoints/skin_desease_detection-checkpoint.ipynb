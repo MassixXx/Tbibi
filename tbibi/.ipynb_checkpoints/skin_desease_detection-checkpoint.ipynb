{
 "cells": [
  {
   "cell_type": "code",
   "execution_count": 26,
   "metadata": {
    "id": "Qip1hZq9fZUk"
   },
   "outputs": [],
   "source": [
    "import tensorflow as tf\n",
    "from PIL import Image\n",
    "import numpy as np\n",
    "import cv2\n",
    "\n",
    "def convert_to_opencv(image):\n",
    "    # RGB -> BGR conversion is performed as well.\n",
    "    image = image.convert('RGB')\n",
    "    r,g,b = np.array(image).T\n",
    "    opencv_image = np.array([b,g,r]).transpose()\n",
    "    return opencv_image\n",
    "\n",
    "def crop_center(img,cropx,cropy):\n",
    "    h, w = img.shape[:2]\n",
    "    startx = w//2-(cropx//2)\n",
    "    starty = h//2-(cropy//2)\n",
    "    return img[starty:starty+cropy, startx:startx+cropx]\n",
    "\n",
    "def resize_down_to_1600_max_dim(image):\n",
    "    h, w = image.shape[:2]\n",
    "    if (h < 1600 and w < 1600):\n",
    "        return image\n",
    "\n",
    "    new_size = (1600 * w // h, 1600) if (h > w) else (1600, 1600 * h // w)\n",
    "    return cv2.resize(image, new_size, interpolation = cv2.INTER_LINEAR)\n",
    "\n",
    "def resize_to_256_square(image):\n",
    "    h, w = image.shape[:2]\n",
    "    return cv2.resize(image, (256, 256), interpolation = cv2.INTER_LINEAR)\n",
    "\n",
    "def update_orientation(image):\n",
    "    exif_orientation_tag = 0x0112\n",
    "    if hasattr(image, '_getexif'):\n",
    "        exif = image._getexif()\n",
    "        if (exif != None and exif_orientation_tag in exif):\n",
    "            orientation = exif.get(exif_orientation_tag, 1)\n",
    "            # orientation is 1 based, shift to zero based and flip/transpose based on 0-based values\n",
    "            orientation -= 1\n",
    "            if orientation >= 4:\n",
    "                image = image.transpose(Image.TRANSPOSE)\n",
    "            if orientation == 2 or orientation == 3 or orientation == 6 or orientation == 7:\n",
    "                image = image.transpose(Image.FLIP_TOP_BOTTOM)\n",
    "            if orientation == 1 or orientation == 2 or orientation == 5 or orientation == 6:\n",
    "                image = image.transpose(Image.FLIP_LEFT_RIGHT)\n",
    "    return image"
   ]
  },
  {
   "cell_type": "code",
   "execution_count": 77,
   "metadata": {
    "id": "0WEzx2pvRThX"
   },
   "outputs": [],
   "source": [
    "import tensorflow as tf\n",
    "from PIL import Image\n",
    "import numpy as np\n",
    "\n",
    "\n",
    "def detection(img):\n",
    "    graph_def = tf.compat.v1.GraphDef()\n",
    "    labels = []\n",
    "\n",
    "    # These are set to the default names from exported models, update as needed.\n",
    "    filename = \"model.pb\"\n",
    "    labels_filename = \"labels.txt\"\n",
    "\n",
    "    # Import the TF graph\n",
    "    with tf.io.gfile.GFile(filename, 'rb') as f:\n",
    "        graph_def.ParseFromString(f.read())\n",
    "        tf.import_graph_def(graph_def, name='')\n",
    "\n",
    "    # Create a list of labels.\n",
    "    with open(labels_filename, 'rt') as lf:\n",
    "        for l in lf:\n",
    "            labels.append(l.strip())\n",
    "\n",
    "    # Open the image to test\n",
    "    imageFile = img\n",
    "    image = Image.open(imageFile)\n",
    "\n",
    "    # Update orientation based on EXIF tags, if the file has orientation info.\n",
    "    image = update_orientation(image)\n",
    "\n",
    "    # Convert to OpenCV format\n",
    "    image = convert_to_opencv(image)\n",
    "\n",
    "    # If the image has either w or h greater than 1600 we resize it down respecting\n",
    "    # aspect ratio such that the largest dimension is 1600\n",
    "    image = resize_down_to_1600_max_dim(image)\n",
    "\n",
    "    # We next get the largest center square\n",
    "    h, w = image.shape[:2]\n",
    "    min_dim = min(w, h)\n",
    "    max_square_image = crop_center(image, min_dim, min_dim)\n",
    "\n",
    "    # Resize that square down to 256x256\n",
    "    augmented_image = resize_to_256_square(max_square_image)\n",
    "\n",
    "    # Get the input size of the model\n",
    "    with tf.compat.v1.Session() as sess:\n",
    "        input_tensor_shape = sess.graph.get_tensor_by_name('Placeholder:0').shape.as_list()\n",
    "    network_input_size = input_tensor_shape[1]\n",
    "\n",
    "    # Crop the center for the specified network_input_Size\n",
    "    augmented_image = crop_center(augmented_image, network_input_size, network_input_size)\n",
    "\n",
    "    # These names are part of the model and cannot be changed.\n",
    "    output_layer = 'loss:0'\n",
    "    input_node = 'Placeholder:0'\n",
    "\n",
    "    with tf.compat.v1.Session() as sess:\n",
    "        try:\n",
    "            prob_tensor = sess.graph.get_tensor_by_name(output_layer)\n",
    "            predictions = sess.run(prob_tensor, {input_node: [augmented_image]})\n",
    "            predictions[0,3] = 0\n",
    "            predictions[0,5] = 0\n",
    "            \n",
    "            skin = False\n",
    "            for p in predictions[0]:\n",
    "              if p>0.3:\n",
    "                skin = True\n",
    "                break\n",
    "            \n",
    "        except KeyError:\n",
    "            print(\"Couldn't find classification output layer: \" + output_layer + \".\")\n",
    "            print(\"Verify this a model exported from an Object Detection project.\")\n",
    "            exit(-1)\n",
    "            \n",
    "            # Print the highest probability label\n",
    "        highest_probability_index = np.argmax(predictions)\n",
    "        str = 'Classified as: ' + labels[highest_probability_index]\n",
    "        return str if skin else 'Normal'"
   ]
  },
  {
   "cell_type": "code",
   "execution_count": 78,
   "metadata": {
    "colab": {
     "base_uri": "https://localhost:8080/",
     "height": 35
    },
    "id": "aWA-sR00eoRW",
    "outputId": "af49a1d9-59a3-47c6-8bb1-92d23819e235"
   },
   "outputs": [
    {
     "data": {
      "application/vnd.google.colaboratory.intrinsic+json": {
       "type": "string"
      },
      "text/plain": [
       "'Classified as: Eczema'"
      ]
     },
     "execution_count": 78,
     "metadata": {},
     "output_type": "execute_result"
    }
   ],
   "source": [
    "detection('pigmentation1.jpeg')"
   ]
  },
  {
   "cell_type": "code",
   "execution_count": null,
   "metadata": {
    "id": "s9-D5BW4ggPv"
   },
   "outputs": [],
   "source": []
  }
 ],
 "metadata": {
  "colab": {
   "provenance": []
  },
  "kernelspec": {
   "display_name": "Python 3 (ipykernel)",
   "language": "python",
   "name": "python3"
  },
  "language_info": {
   "codemirror_mode": {
    "name": "ipython",
    "version": 3
   },
   "file_extension": ".py",
   "mimetype": "text/x-python",
   "name": "python",
   "nbconvert_exporter": "python",
   "pygments_lexer": "ipython3",
   "version": "3.9.7"
  }
 },
 "nbformat": 4,
 "nbformat_minor": 1
}
